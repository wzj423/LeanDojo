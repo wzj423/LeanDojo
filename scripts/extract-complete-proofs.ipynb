{
 "cells": [
  {
   "cell_type": "code",
   "execution_count": 9,
   "id": "1d20d842",
   "metadata": {},
   "outputs": [],
   "source": [
    "import json\n",
    "\n",
    "from lean_dojo import *"
   ]
  },
  {
   "cell_type": "code",
   "execution_count": 2,
   "id": "6adf78c6",
   "metadata": {},
   "outputs": [
    {
     "data": {
      "text/plain": [
       "LeanGitRepo(url='https://github.com/leanprover-community/mathlib', commit='19c869efa56bbb8b500f2724c0b77261edbfa28c')"
      ]
     },
     "execution_count": 2,
     "metadata": {},
     "output_type": "execute_result"
    }
   ],
   "source": [
    "repo = LeanGitRepo(\n",
    "    \"https://github.com/leanprover-community/mathlib\",\n",
    "    \"19c869efa56bbb8b500f2724c0b77261edbfa28c\",\n",
    ")\n",
    "\n",
    "repo"
   ]
  },
  {
   "cell_type": "code",
   "execution_count": 3,
   "id": "1615efc4",
   "metadata": {},
   "outputs": [
    {
     "name": "stderr",
     "output_type": "stream",
     "text": [
      "\u001b[32m2023-10-27 08:02:51.134\u001b[0m | \u001b[1mINFO    \u001b[0m | \u001b[36mlean_dojo.data_extraction.trace\u001b[0m:\u001b[36mtrace\u001b[0m:\u001b[36m174\u001b[0m - \u001b[1mLoading the traced repo from /home/kaiyu/.cache/lean_dojo/leanprover-community-mathlib-19c869efa56bbb8b500f2724c0b77261edbfa28c/mathlib\u001b[0m\n",
      "2023-10-27 08:02:53,428\tINFO worker.py:1633 -- Started a local Ray instance. View the dashboard at \u001b[1m\u001b[32m127.0.0.1:8265 \u001b[39m\u001b[22m\n",
      "100%|████████████████████████████████████████████████████| 3384/3384 [04:15<00:00, 13.27it/s]\n"
     ]
    }
   ],
   "source": [
    "traced_repo = trace(repo)"
   ]
  },
  {
   "cell_type": "code",
   "execution_count": 11,
   "id": "320d678d",
   "metadata": {},
   "outputs": [
    {
     "data": {
      "text/plain": [
       "40248"
      ]
     },
     "execution_count": 11,
     "metadata": {},
     "output_type": "execute_result"
    }
   ],
   "source": [
    "data = []\n",
    "\n",
    "for thm in traced_repo.get_traced_theorems():\n",
    "    if not thm.has_tactic_proof():\n",
    "        continue\n",
    "    proof = thm.get_tactic_proof()\n",
    "    if proof is None:\n",
    "        continue\n",
    "    theorem = thm.get_theorem_statement()\n",
    "    data.append((theorem, proof))\n",
    "\n",
    "len(data)"
   ]
  },
  {
   "cell_type": "code",
   "execution_count": 10,
   "id": "66e1cb51",
   "metadata": {},
   "outputs": [],
   "source": [
    "json.dump(data, open(\"../complete_proofs.json\", \"wt\"))"
   ]
  },
  {
   "cell_type": "code",
   "execution_count": null,
   "id": "14fc2f82",
   "metadata": {},
   "outputs": [],
   "source": []
  }
 ],
 "metadata": {
  "kernelspec": {
   "display_name": "Python 3 (ipykernel)",
   "language": "python",
   "name": "python3"
  },
  "language_info": {
   "codemirror_mode": {
    "name": "ipython",
    "version": 3
   },
   "file_extension": ".py",
   "mimetype": "text/x-python",
   "name": "python",
   "nbconvert_exporter": "python",
   "pygments_lexer": "ipython3",
   "version": "3.10.13"
  }
 },
 "nbformat": 4,
 "nbformat_minor": 5
}
